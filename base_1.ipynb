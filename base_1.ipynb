{
  "nbformat": 4,
  "nbformat_minor": 0,
  "metadata": {
    "colab": {
      "provenance": [],
      "mount_file_id": "1nWDDYTDlcvWPpkYfksZiGTYHAEH5EF33",
      "authorship_tag": "ABX9TyNVILHWqx9PT93Ttacf2mSx",
      "include_colab_link": true
    },
    "kernelspec": {
      "name": "python3",
      "display_name": "Python 3"
    },
    "language_info": {
      "name": "python"
    }
  },
  "cells": [
    {
      "cell_type": "markdown",
      "metadata": {
        "id": "view-in-github",
        "colab_type": "text"
      },
      "source": [
        "<a href=\"https://colab.research.google.com/github/Ali2Haider/base_1/blob/main/base_1.ipynb\" target=\"_parent\"><img src=\"https://colab.research.google.com/assets/colab-badge.svg\" alt=\"Open In Colab\"/></a>"
      ]
    },
    {
      "cell_type": "code",
      "source": [],
      "metadata": {
        "id": "OEabDA7geCt4"
      },
      "execution_count": null,
      "outputs": []
    },
    {
      "cell_type": "code",
      "execution_count": null,
      "metadata": {
        "id": "d2NItGUEcKKE"
      },
      "outputs": [],
      "source": [
        "import argparse\n",
        "import os\n",
        "import torch\n",
        "from torch import nn\n",
        "from monai.inferers import sliding_window_inference\n",
        "from monai.losses import DiceLoss\n",
        "from monai.networks.nets import UNet\n",
        "import numpy as np\n",
        "import random\n",
        "from metrics import dice_metric\n",
        "from data_load import get_train_dataloader, get_val_dataloader"
      ]
    }
  ]
}